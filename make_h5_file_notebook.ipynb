{
 "cells": [
  {
   "cell_type": "code",
   "execution_count": 3,
   "metadata": {},
   "outputs": [
    {
     "name": "stdout",
     "output_type": "stream",
     "text": [
      "HAR_INT_MDS_GAP_213D_02_00_000.tdms\n",
      "HAR_INT_MDS_GAP_213D_02_00_001.tdms\n",
      "HAR_INT_MDS_GAP_213D_02_00_002.tdms\n",
      "HAR_INT_MDS_GAP_213D_02_00_003.tdms\n"
     ]
    }
   ],
   "source": [
    "# -*- coding: utf-8 -*-\n",
    "\"\"\"\n",
    "Created on Tue Apr 26 21:07:37 2022\n",
    "\n",
    "@author: oiseth\n",
    "\"\"\"\n",
    "#%%\n",
    "import numpy as np\n",
    "import sys\n",
    "sys.path.append(r\"C:\\Users\\alasm\\OneDrive - NTNU\\Dokumenter\\NTNU\\5. klasse\\Masteroppgave\\Python code ny\\w3tp\")\n",
    "import w3t\n",
    "import os\n",
    "import h5py\n",
    "from matplotlib import pyplot as plt\n",
    "import time\n",
    "\n",
    "#%% Get all *.tdms files in directory\n",
    "files = []\n",
    "data_path = \".\\\\\\Data_tdms\\\\Tandem\\\\Downstream\\\\2D_Downstream\\\\Static\\\\\"\n",
    "for file in os.listdir(data_path):\n",
    "    if file.endswith(\".tdms\"):\n",
    "        files.append(file)\n",
    "\n",
    "section = \"2D_Downstream_Stat\"\n",
    "\n",
    "#%% Make hdf5 file containing all experiments  \n",
    "\n",
    "h5_output_path = \".\\\\\\Data_h5\\\\\" \n",
    "h5_file = os.path.join(h5_output_path, section)\n",
    "ex1 = -0\n",
    "ex2 = 0\n",
    "for file in files:\n",
    "    print(file)\n",
    "    w3t.tdms2h5_4loadcells(h5_file,(data_path + file),ex1,ex2,wrong_side=False,load_cell_3_and_4_fixed=True)\n"
   ]
  }
 ],
 "metadata": {
  "kernelspec": {
   "display_name": "base",
   "language": "python",
   "name": "python3"
  },
  "language_info": {
   "codemirror_mode": {
    "name": "ipython",
    "version": 3
   },
   "file_extension": ".py",
   "mimetype": "text/x-python",
   "name": "python",
   "nbconvert_exporter": "python",
   "pygments_lexer": "ipython3",
   "version": "3.11.5"
  }
 },
 "nbformat": 4,
 "nbformat_minor": 2
}
