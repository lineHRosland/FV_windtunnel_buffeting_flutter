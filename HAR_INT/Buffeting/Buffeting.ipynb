{
 "cells": [
  {
   "cell_type": "code",
   "execution_count": 1,
   "metadata": {},
   "outputs": [],
   "source": [
    "import numpy as np\n",
    "from matplotlib import pyplot as plt"
   ]
  },
  {
   "cell_type": "code",
   "execution_count": null,
   "metadata": {},
   "outputs": [],
   "source": [
    "#Geometry\n",
    "L1 = 1310.0 #Length of upstream bridge [m]\n",
    "L2 = 1310.0 #Length of downstream bridge [m]\n",
    "\n",
    "B = 18.3 #Width of bridge [m]\n",
    "D = 3.33 #Height of bridge [m]"
   ]
  },
  {
   "cell_type": "code",
   "execution_count": null,
   "metadata": {},
   "outputs": [],
   "source": [
    "#Wind parameters\n",
    "rho = 1.25 #Density of air [kg/m^3]\n",
    "V = 37.6 #10-minute mean wind velocity [m/s]\n",
    "xL_u = 360 #Longitudinal turbulence length scale [m]\n",
    "ctt = 1.2 #Turbulence factor\n",
    "z = 50.0 #Location of the bridge above terrain [m]\n",
    "z0 = 0.01 #Roughness length [m]\n",
    "I_u = ctt / np.log(z/z0) #Longitudinal turbulence intensity\n",
    "I_w = 0.5 * I_u #Vertical turbulence intensity\n",
    "sigma_u = I_u * V #Longitudinal turbulence standard deviation\n",
    "sigma_w = I_w * V #Vertical turbulence standard deviation"
   ]
  },
  {
   "cell_type": "code",
   "execution_count": null,
   "metadata": {},
   "outputs": [],
   "source": [
    "#Frequency\n",
    "n = np.linspace(0.001,3,1000) #Fine frequency axis [Hz]\n",
    "n_load = np.logspace(-3,1,100) #Crude frequency axis [Hz]"
   ]
  },
  {
   "cell_type": "code",
   "execution_count": null,
   "metadata": {},
   "outputs": [],
   "source": [
    "#Power spectra\n",
    "a_u = 6.8 #Longitudinal turbulence spectrum coefficient\n",
    "a_w = 0.55 #Vertical turbulence spectrum coefficient\n",
    "n_hat = n_load * xL_u / V #Non-dimensional frequency\n",
    "S_u = sigma_u**2 / n_load * a_u * n_hat / (1 + 1.5 *a_u * n_hat)**(5/3) #Longitudinal turbulence spectrum\n",
    "S_w = sigma_w**2 / n_load * a_w * n_hat / (1 + 1.5 *a_w * n_hat)**(5/3) #Vertical turbulence spectrum\n"
   ]
  }
 ],
 "metadata": {
  "kernelspec": {
   "display_name": "base",
   "language": "python",
   "name": "python3"
  },
  "language_info": {
   "codemirror_mode": {
    "name": "ipython",
    "version": 3
   },
   "file_extension": ".py",
   "mimetype": "text/x-python",
   "name": "python",
   "nbconvert_exporter": "python",
   "pygments_lexer": "ipython3",
   "version": "3.11.5"
  }
 },
 "nbformat": 4,
 "nbformat_minor": 2
}
