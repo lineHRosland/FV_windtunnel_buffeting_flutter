{
 "cells": [
  {
   "cell_type": "code",
   "execution_count": null,
   "metadata": {},
   "outputs": [],
   "source": [
    "import numpy as np\n"
   ]
  },
  {
   "cell_type": "code",
   "execution_count": null,
   "metadata": {},
   "outputs": [],
   "source": [
    "data4 = np.load('mode4_data.npz')\n",
    "data15 = np.load('mode15_data.npz')\n",
    "\n",
    "x_4 = data4['x']\n",
    "mode_4 = data4['mode']\n",
    "\n",
    "x_15 = data15['x']\n",
    "mode_15 = data15['mode']"
   ]
  },
  {
   "cell_type": "code",
   "execution_count": null,
   "metadata": {},
   "outputs": [],
   "source": [
    "#Single deck\n",
    "def mode_shape_single(mode_4, mode_15, full_matrix=True):\n",
    "    \"\"\"\n",
    "    Constructs mode shape matrices for a single-deck bridge using vertical (mode 4)\n",
    "    and torsional (mode 15) modes.\n",
    "\n",
    "    Parameters:\n",
    "        mode_4 (np.ndarray): Mode shape data for vertical mode (shape: [N, 6]).\n",
    "        mode_15 (np.ndarray): Mode shape data for torsional mode (shape: [N, 6]).\n",
    "            - x ranges from -654 to 654 (N)\n",
    "            - Each row contains [x, y, z, dx, dy, dz] at each node\n",
    "        full_matrix (bool): If True, populate full 2x2 matrix. If False, keep only diagonal.\n",
    "\n",
    "    Returns:\n",
    "        phi_single (np.ndarray): Array of shape (N, 2, 2) containing mode shape matrices per node.\n",
    "    \"\"\"\n",
    "    N = mode_4.shape[0]\n",
    "    phi_single = np.zeros((N, 2, 2))\n",
    "\n",
    "    # Extract vertical and rotational components from mode data\n",
    "    phi_z_1V = mode_4[:, 2]      # Vertical displacement (z) from mode 4\n",
    "    phi_theta_1V = mode_4[:, 3]  # Rotation (theta) from mode 4\n",
    "    phi_z_1T = mode_15[:, 2]     # Vertical from torsional mode\n",
    "    phi_theta_1T = mode_15[:, 3] # Rotation from torsional mode\n",
    "\n",
    "    for i, (z1V, t1V, z1T, t1T) in enumerate(zip(phi_z_1V, phi_theta_1V, phi_z_1T, phi_theta_1T)):\n",
    "        phi_single[i, 0, 0] = z1V\n",
    "        phi_single[i, 1, 1] = t1T\n",
    "\n",
    "        if full_matrix:\n",
    "            phi_single[i, 1, 0] = t1V\n",
    "            phi_single[i, 0, 1] = z1T\n",
    "\n",
    "    return phi_single\n"
   ]
  },
  {
   "cell_type": "code",
   "execution_count": null,
   "metadata": {},
   "outputs": [],
   "source": [
    "#Double deck\n",
    "def mode_shape_double(mode_4, mode_15, full_matrix=True):\n",
    "    \"\"\"\n",
    "    Constructs mode shape matrices for a twin-deck bridge based on mode 4 (vertical) and\n",
    "    mode 15 (torsional), assuming same mode shapes for both decks.\n",
    "\n",
    "    Parameters:\n",
    "        mode_4 (np.ndarray): Mode shape data for vertical mode (shape: [N, 6]).\n",
    "        mode_15 (np.ndarray): Mode shape data for torsional mode (shape: [N, 6]).\n",
    "            - x ranges from -654 to 654 (N)\n",
    "            - Each row contains [x, y, z, dx, dy, dz] at each node\n",
    "        full_matrix (bool): If True, populate full 4x4 matrices. If False, only diagonals.\n",
    "\n",
    "    Returns:\n",
    "        phi_double (np.ndarray): Array of shape (N, 4, 4) with mode shape matrices per node.\n",
    "                                 DOFs are [z1, θ1, z2, θ2].\n",
    "    \"\"\"\n",
    "    N = mode_4.shape[0]\n",
    "    phi_double = np.zeros((N, 4, 4))\n",
    "\n",
    "    # Extract relevant DOFs from each mode\n",
    "    phi_z_1V = mode_4[:, 2]       # vertical deck 1\n",
    "    phi_theta_1V = mode_4[:, 3]   # torsion deck 1\n",
    "    phi_z_1T = mode_15[:, 2]      # vertical (torsion mode) deck 1\n",
    "    phi_theta_1T = mode_15[:, 3]  # torsion (torsion mode) deck 1\n",
    "\n",
    "    for i, (z1V, t1V, z1T, t1T) in enumerate(zip(phi_z_1V, phi_theta_1V, phi_z_1T, phi_theta_1T)):\n",
    "        # Deck 1\n",
    "        phi_double[i, 0, 0] = z1V\n",
    "        phi_double[i, 1, 1] = t1T\n",
    "\n",
    "        # Deck 2 (mirrored)\n",
    "        phi_double[i, 2, 2] = z1V\n",
    "        phi_double[i, 3, 3] = t1T\n",
    "\n",
    "        if full_matrix:\n",
    "            phi_double[i, 1, 0] = t1V\n",
    "            phi_double[i, 0, 1] = z1T\n",
    "            phi_double[i, 3, 2] = t1V\n",
    "            phi_double[i, 2, 3] = z1T\n",
    "\n",
    "    return phi_double"
   ]
  }
 ],
 "metadata": {
  "kernelspec": {
   "display_name": "base",
   "language": "python",
   "name": "python3"
  },
  "language_info": {
   "codemirror_mode": {
    "name": "ipython",
    "version": 3
   },
   "file_extension": ".py",
   "mimetype": "text/x-python",
   "name": "python",
   "nbconvert_exporter": "python",
   "pygments_lexer": "ipython3",
   "version": "3.12.7"
  }
 },
 "nbformat": 4,
 "nbformat_minor": 2
}
