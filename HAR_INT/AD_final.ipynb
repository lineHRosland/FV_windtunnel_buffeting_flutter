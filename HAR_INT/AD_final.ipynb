{
 "cells": [
  {
   "cell_type": "code",
   "execution_count": 2,
   "metadata": {},
   "outputs": [],
   "source": [
    "import numpy as np\n",
    "import os"
   ]
  },
  {
   "cell_type": "markdown",
   "metadata": {},
   "source": [
    "# Second order polynomial fit of ADs for all 6 test types"
   ]
  },
  {
   "cell_type": "code",
   "execution_count": null,
   "metadata": {},
   "outputs": [],
   "source": [
    "# Define the path where arrays are stored\n",
    "file_path = \".\\\\Arrays_AD\\\\\"\n",
    "\n",
    "# Dictionary to store loaded arrays\n",
    "arrays_loaded = {}\n",
    "\n",
    "# List of array names\n",
    "array_names = [\n",
    "    \"poly_coeff_single\", \"v_range_single\",\n",
    "    \"poly_coeff_1D\", \"v_range_1D\",\n",
    "    \"poly_coeff_2D\", \"v_range_2D\",\n",
    "    \"poly_coeff_3D\", \"v_range_3D\",\n",
    "    \"poly_coeff_4D\", \"v_range_4D\",\n",
    "    \"poly_coeff_5D\", \"v_range_5D\",\n",
    "]\n",
    "\n",
    "# Load each .npy file\n",
    "for name in array_names:\n",
    "    arrays_loaded[name] = np.load(os.path.join(file_path, f\"{name}.npy\"))\n",
    "\n",
    "# Assign variables directly\n",
    "poly_coeff_single = arrays_loaded[\"poly_coeff_single\"]\n",
    "v_range_single = arrays_loaded[\"v_range_single\"]\n",
    "\n",
    "poly_coeff_1D = arrays_loaded[\"poly_coeff_1D\"]\n",
    "v_range_1D = arrays_loaded[\"v_range_1D\"]\n",
    "\n",
    "poly_coeff_2D = arrays_loaded[\"poly_coeff_2D\"]\n",
    "v_range_2D = arrays_loaded[\"v_range_2D\"]\n",
    "\n",
    "poly_coeff_3D = arrays_loaded[\"poly_coeff_3D\"]\n",
    "v_range_3D = arrays_loaded[\"v_range_3D\"]\n",
    "\n",
    "poly_coeff_4D = arrays_loaded[\"poly_coeff_4D\"]\n",
    "v_range_4D = arrays_loaded[\"v_range_4D\"]\n",
    "\n",
    "poly_coeff_5D = arrays_loaded[\"poly_coeff_5D\"]\n",
    "v_range_5D = arrays_loaded[\"v_range_5D\"]\n",
    "\n",
    "# v_range --> [v_min, v_max] (reduced velocity range)\n",
    "# poly_coeff --> number of ADs x [a0, a1, a2], AD(v) = a0 + a1*v + a2*v^2\n",
    "\n",
    "# Single order: H_1*, H_2*, H_3*, H_4*, A_1*, A_2*, A_3*, A_4*\n",
    "# Tandem order: c_z1z1*, c_z1θ1*, c_z1z2*, c_z1θ2*, c_θ1z1*, c_θ1θ1*, c_θ1z2*, c_θ1θ2*, \n",
    "#               c_z2z1*, c_z2θ1*, c_z2z2*, c_z2θ2*, c_θ2z1*, c_θ2θ1*, c_θ2z2*, c_θ2θ2*, \n",
    "#               k_z1z1*, k_z1θ1*, k_z1z2*, k_z1θ2*, k_θ1z1*, k_θ1θ1*, k_θ1z2*, k_θ1θ2*, \n",
    "#               k_z2z1*, k_z2θ1*, k_z2z2*, k_z2θ2*, k_θ2z1*, k_θ2θ1*, k_θ2z2*, k_θ2θ2*\n",
    "\n"
   ]
  }
 ],
 "metadata": {
  "kernelspec": {
   "display_name": "base",
   "language": "python",
   "name": "python3"
  },
  "language_info": {
   "codemirror_mode": {
    "name": "ipython",
    "version": 3
   },
   "file_extension": ".py",
   "mimetype": "text/x-python",
   "name": "python",
   "nbconvert_exporter": "python",
   "pygments_lexer": "ipython3",
   "version": "3.11.5"
  }
 },
 "nbformat": 4,
 "nbformat_minor": 2
}
